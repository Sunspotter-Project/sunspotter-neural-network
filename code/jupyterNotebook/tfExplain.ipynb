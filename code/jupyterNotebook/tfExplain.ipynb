{
 "cells": [
  {
   "cell_type": "code",
   "execution_count": 1,
   "metadata": {},
   "outputs": [],
   "source": [
    "import tensorflow as tf\n",
    "import numpy as np\n",
    "import time\n",
    "import PIL.Image as Image\n",
    "import tensorflow_hub as hub\n",
    "import seaborn as sns\n",
    "\n",
    "from tensorflow import keras\n",
    "from tensorflow.keras import layers\n",
    "from tensorflow.keras.models import Sequential\n",
    "\n",
    "from tf_explain.core import GradCAM\n",
    "\n",
    "# Display\n",
    "from IPython.display import Image, display\n",
    "import matplotlib.pyplot as plt\n",
    "import matplotlib.cm as cm\n"
   ]
  },
  {
   "cell_type": "code",
   "execution_count": 9,
   "metadata": {},
   "outputs": [],
   "source": [
    "\n",
    "# Load pretrained model or your own\n",
    "#model = tf.keras.applications.vgg16.VGG16(weights=\"imagenet\", include_top=True)\n",
    "model = tf.keras.applications.mobilenet_v2.MobileNetV2(weights=\"imagenet\", include_top=True)\n",
    "\n",
    "#model_name = \"mobilenet_v2_035_244\"\n",
    "#model_name = \"model_mobilenet_v2_025_224\"\n",
    "#saved_model_path = f\"./tmp/saved_sunSpotter_model_{model_name}\"\n",
    "#saved_model_path = \"./tmp/saved_sunSpotter_model_mobilenet_v2_025_224\"\n",
    "#model = keras.models.load_model(saved_model_path)\n",
    "\n",
    "#pretrained_model_path = f\"./sunSpotter_keras_transferLearning_model_mobilenet_v2_035_244_20211220.h5\"\n",
    "#pretrained_model_path = f\"./sunSpotter_keras_transferLearning_model_mobilenet_v2_100_224.h5\"\n",
    "#model = keras.models.load_model(pretrained_model_path, custom_objects={'KerasLayer':hub.KerasLayer})\n",
    "\n",
    "# Load a sample image (or multiple ones)\n",
    "sunny_url = \"https://www.foto-webcam.eu/webcam/tschagguns/2021/05/27/1510_hu.jpg\"\n",
    "sunny_path = tf.keras.utils.get_file('SunnyWheater', origin=sunny_url)\n",
    "IMAGE_PATH = sunny_path\n",
    "img = tf.keras.preprocessing.image.load_img(IMAGE_PATH, target_size=(224, 224))\n",
    "img = tf.keras.preprocessing.image.img_to_array(img)\n",
    "img = img / 255\n",
    "data = ([img], None)\n",
    "\n",
    "# Start explainer\n",
    "explainer = GradCAM()\n",
    "grid = explainer.explain(data, model, class_index=281)  # 1 is the sunny index in sunspotter 281 is the tabby cat index in ImageNet\n",
    "\n",
    "explainer.save(grid, \".\", \"grad_cam.png\")"
   ]
  }
 ],
 "metadata": {
  "interpreter": {
   "hash": "b3ba2566441a7c06988d0923437866b63cedc61552a5af99d1f4fb67d367b25f"
  },
  "kernelspec": {
   "display_name": "Python 3.8.8 64-bit ('base': conda)",
   "language": "python",
   "name": "python3"
  },
  "language_info": {
   "codemirror_mode": {
    "name": "ipython",
    "version": 3
   },
   "file_extension": ".py",
   "mimetype": "text/x-python",
   "name": "python",
   "nbconvert_exporter": "python",
   "pygments_lexer": "ipython3",
   "version": "3.8.8"
  },
  "orig_nbformat": 4
 },
 "nbformat": 4,
 "nbformat_minor": 2
}
