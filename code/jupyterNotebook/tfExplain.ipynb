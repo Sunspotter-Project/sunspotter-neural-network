{
 "cells": [
  {
   "cell_type": "code",
   "execution_count": 15,
   "metadata": {},
   "outputs": [],
   "source": [
    "import tensorflow as tf\n",
    "import numpy as np\n",
    "import time\n",
    "import PIL.Image as Image\n",
    "import tensorflow_hub as hub\n",
    "import seaborn as sns\n",
    "\n",
    "from tensorflow import keras\n",
    "from tensorflow.keras import layers\n",
    "from tensorflow.keras.models import Sequential\n",
    "\n",
    "from tf_explain.core import GradCAM\n",
    "\n",
    "# Display\n",
    "from IPython.display import Image, display\n",
    "import matplotlib.pyplot as plt\n",
    "import matplotlib.cm as cm\n"
   ]
  },
  {
   "cell_type": "code",
   "execution_count": 20,
   "metadata": {},
   "outputs": [
    {
     "ename": "ValueError",
     "evalue": "Model does not seem to contain 4D layer. Grad CAM cannot be applied.",
     "output_type": "error",
     "traceback": [
      "\u001b[1;31m---------------------------------------------------------------------------\u001b[0m",
      "\u001b[1;31mValueError\u001b[0m                                Traceback (most recent call last)",
      "\u001b[1;32m~\\AppData\\Local\\Temp/ipykernel_2696/1057628912.py\u001b[0m in \u001b[0;36m<module>\u001b[1;34m\u001b[0m\n\u001b[0;32m     22\u001b[0m \u001b[1;31m# Start explainer\u001b[0m\u001b[1;33m\u001b[0m\u001b[1;33m\u001b[0m\u001b[1;33m\u001b[0m\u001b[0m\n\u001b[0;32m     23\u001b[0m \u001b[0mexplainer\u001b[0m \u001b[1;33m=\u001b[0m \u001b[0mGradCAM\u001b[0m\u001b[1;33m(\u001b[0m\u001b[1;33m)\u001b[0m\u001b[1;33m\u001b[0m\u001b[1;33m\u001b[0m\u001b[0m\n\u001b[1;32m---> 24\u001b[1;33m \u001b[0mgrid\u001b[0m \u001b[1;33m=\u001b[0m \u001b[0mexplainer\u001b[0m\u001b[1;33m.\u001b[0m\u001b[0mexplain\u001b[0m\u001b[1;33m(\u001b[0m\u001b[0mdata\u001b[0m\u001b[1;33m,\u001b[0m \u001b[0mmodel\u001b[0m\u001b[1;33m,\u001b[0m \u001b[0mclass_index\u001b[0m\u001b[1;33m=\u001b[0m\u001b[1;36m281\u001b[0m\u001b[1;33m)\u001b[0m  \u001b[1;31m# 281 is the tabby cat index in ImageNet\u001b[0m\u001b[1;33m\u001b[0m\u001b[1;33m\u001b[0m\u001b[0m\n\u001b[0m\u001b[0;32m     25\u001b[0m \u001b[1;33m\u001b[0m\u001b[0m\n\u001b[0;32m     26\u001b[0m \u001b[0mexplainer\u001b[0m\u001b[1;33m.\u001b[0m\u001b[0msave\u001b[0m\u001b[1;33m(\u001b[0m\u001b[0mgrid\u001b[0m\u001b[1;33m,\u001b[0m \u001b[1;34m\".\"\u001b[0m\u001b[1;33m,\u001b[0m \u001b[1;34m\"grad_cam.png\"\u001b[0m\u001b[1;33m)\u001b[0m\u001b[1;33m\u001b[0m\u001b[1;33m\u001b[0m\u001b[0m\n",
      "\u001b[1;32m~\\anaconda3\\lib\\site-packages\\tf_explain\\core\\grad_cam.py\u001b[0m in \u001b[0;36mexplain\u001b[1;34m(self, validation_data, model, class_index, layer_name, use_guided_grads, colormap, image_weight)\u001b[0m\n\u001b[0;32m     50\u001b[0m \u001b[1;33m\u001b[0m\u001b[0m\n\u001b[0;32m     51\u001b[0m         \u001b[1;32mif\u001b[0m \u001b[0mlayer_name\u001b[0m \u001b[1;32mis\u001b[0m \u001b[1;32mNone\u001b[0m\u001b[1;33m:\u001b[0m\u001b[1;33m\u001b[0m\u001b[1;33m\u001b[0m\u001b[0m\n\u001b[1;32m---> 52\u001b[1;33m             \u001b[0mlayer_name\u001b[0m \u001b[1;33m=\u001b[0m \u001b[0mself\u001b[0m\u001b[1;33m.\u001b[0m\u001b[0minfer_grad_cam_target_layer\u001b[0m\u001b[1;33m(\u001b[0m\u001b[0mmodel\u001b[0m\u001b[1;33m)\u001b[0m\u001b[1;33m\u001b[0m\u001b[1;33m\u001b[0m\u001b[0m\n\u001b[0m\u001b[0;32m     53\u001b[0m \u001b[1;33m\u001b[0m\u001b[0m\n\u001b[0;32m     54\u001b[0m         outputs, grads = GradCAM.get_gradients_and_filters(\n",
      "\u001b[1;32m~\\anaconda3\\lib\\site-packages\\tf_explain\\core\\grad_cam.py\u001b[0m in \u001b[0;36minfer_grad_cam_target_layer\u001b[1;34m(model)\u001b[0m\n\u001b[0;32m     87\u001b[0m                 \u001b[1;32mreturn\u001b[0m \u001b[0mlayer\u001b[0m\u001b[1;33m.\u001b[0m\u001b[0mname\u001b[0m\u001b[1;33m\u001b[0m\u001b[1;33m\u001b[0m\u001b[0m\n\u001b[0;32m     88\u001b[0m \u001b[1;33m\u001b[0m\u001b[0m\n\u001b[1;32m---> 89\u001b[1;33m         raise ValueError(\n\u001b[0m\u001b[0;32m     90\u001b[0m             \u001b[1;34m\"Model does not seem to contain 4D layer. Grad CAM cannot be applied.\"\u001b[0m\u001b[1;33m\u001b[0m\u001b[1;33m\u001b[0m\u001b[0m\n\u001b[0;32m     91\u001b[0m         )\n",
      "\u001b[1;31mValueError\u001b[0m: Model does not seem to contain 4D layer. Grad CAM cannot be applied."
     ]
    }
   ],
   "source": [
    "\n",
    "# Load pretrained model or your own\n",
    "#model = tf.keras.applications.vgg16.VGG16(weights=\"imagenet\", include_top=True)\n",
    "\n",
    "#model_name = \"mobilenet_v2_035_244\"\n",
    "model_name = \"model_mobilenet_v2_025_224\"\n",
    "#saved_model_path = f\"./tmp/saved_sunSpotter_model_{model_name}\"\n",
    "saved_model_path = \"./tmp/saved_sunSpotter_model_mobilenet_v2_025_224\"\n",
    "model = keras.models.load_model(saved_model_path)\n",
    "\n",
    "#pretrained_model_path = f\"./sunSpotter_keras_transferLearning_model_mobilenet_v2_035_244_20211220.h5\"\n",
    "#pretrained_model_path = f\"./sunSpotter_keras_transferLearning_model_mobilenet_v2_100_224.h5\"\n",
    "#model = keras.models.load_model(pretrained_model_path, custom_objects={'KerasLayer':hub.KerasLayer})\n",
    "\n",
    "# Load a sample image (or multiple ones)\n",
    "sunny_url = \"https://www.foto-webcam.eu/webcam/tschagguns/2021/05/27/1510_hu.jpg\"\n",
    "sunny_path = tf.keras.utils.get_file('SunnyWheater', origin=sunny_url)\n",
    "IMAGE_PATH = sunny_path\n",
    "img = tf.keras.preprocessing.image.load_img(IMAGE_PATH, target_size=(224, 224))\n",
    "img = tf.keras.preprocessing.image.img_to_array(img)\n",
    "data = ([img], None)\n",
    "\n",
    "# Start explainer\n",
    "explainer = GradCAM()\n",
    "grid = explainer.explain(data, model, class_index=281)  # 281 is the tabby cat index in ImageNet\n",
    "\n",
    "explainer.save(grid, \".\", \"grad_cam.png\")"
   ]
  }
 ],
 "metadata": {
  "interpreter": {
   "hash": "b3ba2566441a7c06988d0923437866b63cedc61552a5af99d1f4fb67d367b25f"
  },
  "kernelspec": {
   "display_name": "Python 3.8.8 64-bit ('base': conda)",
   "language": "python",
   "name": "python3"
  },
  "language_info": {
   "codemirror_mode": {
    "name": "ipython",
    "version": 3
   },
   "file_extension": ".py",
   "mimetype": "text/x-python",
   "name": "python",
   "nbconvert_exporter": "python",
   "pygments_lexer": "ipython3",
   "version": "3.8.8"
  },
  "orig_nbformat": 4
 },
 "nbformat": 4,
 "nbformat_minor": 2
}
