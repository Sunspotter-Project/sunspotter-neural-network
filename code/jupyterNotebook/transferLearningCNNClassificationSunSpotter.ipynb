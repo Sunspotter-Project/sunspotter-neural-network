{
 "cells": [
  {
   "cell_type": "markdown",
   "metadata": {},
   "source": [
    "# Use Transfer Learning for Sun Spotter\n",
    "## Try different pre trained models e.g. resnet_v2_152, inception_resnet_v2, mobilenet etc."
   ]
  },
  {
   "cell_type": "code",
   "execution_count": 55,
   "metadata": {},
   "outputs": [],
   "source": [
    "import tensorflow as tf\n",
    "import matplotlib.pyplot as plt\n",
    "import numpy as np\n",
    "import time\n",
    "import PIL.Image as Image\n",
    "import tensorflow_hub as hub\n",
    "import seaborn as sns\n",
    "\n",
    "from tensorflow import keras\n",
    "from tensorflow.keras import layers\n",
    "from tensorflow.keras.models import Sequential"
   ]
  },
  {
   "cell_type": "markdown",
   "metadata": {},
   "source": [
    "## Use a pretrained model"
   ]
  },
  {
   "cell_type": "markdown",
   "metadata": {},
   "source": [
    "### Preparation to make it easy to try out different models\n",
    "\n",
    "#### Use head-less pretrained Model for CNN\n",
    "We tried the following models:\n",
    "* Use trainable=False to freeze the variables in the feature extractor layer, so that the training only modifies the new classifier layer.   \n",
    "* Use trainable=True to fine tune the variables in the feature extractor layer.\n",
    "   \n",
    "| \"Model\"        | \"Fine tuned?\"| \"Training loss\"  | \"Training accuracy\"  | \"Validation loss\" | \"Validation accuracy\" | \"Commments\"\n",
    "| :------------- |:-------------:| :-------------:| :-----: |:-----:| :-----: | ------------- :|\n",
    "| resnet_v2_50  | yes              |0.7248 | 0.9413  |  0.8801 | 0.8594 | generalizes bad (always 100% confidence in one class)\n",
    "| resnet_v2_50  | no               |0.8994 |  0.5831  | 0.8569 | 0.5375 |generalizes bad (always 100% confidence in one class)\n",
    "| inception_resnet_v2   | yes      | 1.0882 | 0.8742 | 1.8426 | 0.5250 |generalizes bad (always 100% confidence in one class)\n",
    "| inception_resnet_v2   | no      |   0.6287 |0.8308  | 0.9929 | 0.6219 |generalizes bad (always 100% confidence in one class)\n",
    "| mobilenet_v2_140_224| yes      |   0.5639| 0.9345 |  1.0495 | 0.6125 | second best results\n",
    "| mobilenet_v2_140_224| no      |  0.6338 |0.9345  |0.7113 | 0.7750 | **_best validation loss & generalizes best_**\n",
    "\n",
    "#### Own CNN-Model with 5 convolution layers\n",
    "| \"Model\"        | \"Fine tuned?\"| \"Training loss\"  | \"Training accuracy\"  | \"Validation loss\" | \"Validation accuracy\" | \"Commments\"\n",
    "| :------------- |:-------------:| :-------------:| :-----: |:-----:| :-----: | ------------- :|\n",
    "| selfmade model  | -              | 0.3565 |  0.8442  |  0.3142 | 0.8592 | lowest loss and high accuracy but generalizes not good\n",
    "\n"
   ]
  },
  {
   "cell_type": "code",
   "execution_count": 56,
   "metadata": {},
   "outputs": [
    {
     "name": "stdout",
     "output_type": "stream",
     "text": [
      "Selected model: mobilenet_v2_140_224 : https://tfhub.dev/google/imagenet/mobilenet_v2_140_224/feature_vector/4\n",
      "Input size (224, 224)\n"
     ]
    }
   ],
   "source": [
    "model_name = \"mobilenet_v2_140_224\" # @param ['bit_s-r50x1', 'efficientnet_b0', 'efficientnet_b1', 'efficientnet_b2', 'efficientnet_b3', 'efficientnet_b4', 'efficientnet_b5', 'efficientnet_b6', 'efficientnet_b7', 'inception_v3', 'inception_resnet_v2', 'mobilenet_v2_100_224', 'mobilenet_v2_130_224', 'mobilenet_v2_140_224', 'mobilenet_v3_large_100_224', 'mobilenet_v3_large_075_224', 'mobilenet_v3_small_100_224', 'mobilenet_v3_small_075_224', 'nasnet_large', 'nasnet_mobile', 'pnasnet_large', 'resnet_v1_50', 'resnet_v1_101', 'resnet_v1_152', 'resnet_v2_50', 'resnet_v2_101', 'resnet_v2_152']\n",
    "\n",
    "model_handle_map = {\n",
    "  \"efficientnet_b0\": \"https://tfhub.dev/tensorflow/efficientnet/b0/feature_vector/1\",\n",
    "  \"inception_v3\": \"https://tfhub.dev/google/imagenet/inception_v3/feature_vector/4\",  \n",
    "  \"inception_resnet_v2\": \"https://tfhub.dev/google/imagenet/inception_resnet_v2/feature_vector/4\",\n",
    "  \"resnet_v1_50\": \"https://tfhub.dev/google/imagenet/resnet_v1_50/feature_vector/4\",\n",
    "  \"resnet_v1_152\": \"https://tfhub.dev/google/imagenet/resnet_v1_152/feature_vector/4\",\n",
    "  \"resnet_v2_50\": \"https://tfhub.dev/google/imagenet/resnet_v2_50/feature_vector/4\",\n",
    "  \"resnet_v2_101\": \"https://tfhub.dev/google/imagenet/resnet_v2_101/feature_vector/4\",\n",
    "  \"resnet_v2_152\": \"https://tfhub.dev/google/imagenet/resnet_v2_152/feature_vector/4\",\n",
    "  \"mobilenet_v2_100_224\": \"https://tfhub.dev/google/imagenet/mobilenet_v2_100_224/feature_vector/4\",\n",
    "  \"mobilenet_v2_130_224\": \"https://tfhub.dev/google/imagenet/mobilenet_v2_130_224/feature_vector/4\",\n",
    "  \"mobilenet_v2_140_224\": \"https://tfhub.dev/google/imagenet/mobilenet_v2_140_224/feature_vector/4\",\n",
    "}\n",
    "\n",
    "model_image_size_map = {\n",
    "  \"efficientnet_b0\": 224,\n",
    "  \"inception_v3\": 299,\n",
    "  \"inception_resnet_v2\": 299,\n",
    "}\n",
    "\n",
    "model_handle = model_handle_map.get(model_name)\n",
    "pixels = model_image_size_map.get(model_name, 224)\n",
    "\n",
    "print(f\"Selected model: {model_name} : {model_handle}\")\n",
    "\n",
    "IMAGE_SIZE = (pixels, pixels)\n",
    "print(f\"Input size {IMAGE_SIZE}\")\n",
    "\n",
    "BATCH_SIZE = 32 #@param {type:\"integer\"}"
   ]
  },
  {
   "cell_type": "markdown",
   "metadata": {},
   "source": [
    "## Create callback instances\n",
    "### Setup folder where to save logs for tensorboard, one folder for every run"
   ]
  },
  {
   "cell_type": "code",
   "execution_count": 57,
   "metadata": {},
   "outputs": [],
   "source": [
    "#setup folder where to save logs for tensorflow\n",
    "root_logdir = os.path.join(os.curdir,\"my_logs\")\n",
    "\n",
    "def get_run_logdir(modelName):\n",
    "    import time\n",
    "    run_id = time.strftime(\"run_%Y_%m_%d-%H_%M_%S_\"+modelName)\n",
    "    return os.path.join(root_logdir, run_id)\n",
    "\n",
    "run_logdir = get_run_logdir(model_name)"
   ]
  },
  {
   "cell_type": "code",
   "execution_count": 58,
   "metadata": {},
   "outputs": [],
   "source": [
    "#create keras Tensorboard callback\n",
    "tensorboard_cb = keras.callbacks.TensorBoard(run_logdir)"
   ]
  },
  {
   "cell_type": "markdown",
   "metadata": {},
   "source": [
    "### Setup callback for ModelCheckpoint to save the model"
   ]
  },
  {
   "cell_type": "code",
   "execution_count": 59,
   "metadata": {},
   "outputs": [],
   "source": [
    "#create keras ModelCheckpoint callback\n",
    "checkpoint_cb = keras.callbacks.ModelCheckpoint(\"sunSpotter_keras_transferLearning_model.h5\")"
   ]
  },
  {
   "cell_type": "markdown",
   "metadata": {},
   "source": [
    "### Setup callback for Early Stopping"
   ]
  },
  {
   "cell_type": "code",
   "execution_count": 60,
   "metadata": {},
   "outputs": [],
   "source": [
    "#create keras early stopping callback will be used later on\n",
    "early_stopping_cb = keras.callbacks.EarlyStopping(patience=10, restore_best_weights=True)"
   ]
  },
  {
   "cell_type": "markdown",
   "metadata": {},
   "source": [
    "### Load the data set\n",
    "\n",
    "We uses a dataset of about 735 sunny photos and 854 not sunny of different landscapes from real webcams. The dataset contains 2 sub-directories, one per class:\n",
    "\n",
    "```\n",
    "/\n",
    "  notSunny/\n",
    "  sunny/  \n",
    "```"
   ]
  },
  {
   "cell_type": "code",
   "execution_count": 61,
   "metadata": {},
   "outputs": [
    {
     "name": "stdout",
     "output_type": "stream",
     "text": [
      "..\\..\\data\\images-classified\n",
      "..\\..\\testData\\images-classified\n"
     ]
    }
   ],
   "source": [
    "import pathlib\n",
    "data_dir = \"..\\..\\data\\images-classified\"\n",
    "data_dir = pathlib.Path(data_dir)\n",
    "print(data_dir)\n",
    "\n",
    "testData_dir = \"..\\..\\\\testData\\images-classified\"\n",
    "testData_dir = pathlib.Path(testData_dir)\n",
    "print(testData_dir)"
   ]
  },
  {
   "cell_type": "markdown",
   "metadata": {},
   "source": [
    "Load and preprocess the data set (in the code under it assumes that every class is contained in a different subfolder, but that can be adapted). In addition perform some data augmentation on the training data. \n",
    "Split the dataset in a validation an a training part which will be used by the model. Let's use 80% of the images for training, and 20% for validation. Use a second source as test data. The items for test are situated in a separate folder.\n",
    "\n",
    "\n",
    "mobile-net, den kleineren verwenend (noch kein fine tuning)\n",
    "nur 1 dropout layer bevor dense\n",
    "30% 40% dropout"
   ]
  },
  {
   "cell_type": "code",
   "execution_count": 62,
   "metadata": {},
   "outputs": [
    {
     "name": "stdout",
     "output_type": "stream",
     "text": [
      "Found 1112 images belonging to 2 classes.\n",
      "Found 277 images belonging to 2 classes.\n",
      "Found 200 images belonging to 2 classes.\n"
     ]
    }
   ],
   "source": [
    "train_datagen = tf.keras.preprocessing.image.ImageDataGenerator(\n",
    "    rescale=1./255, validation_split=.20)# add data augmentation transformations\n",
    "valid_datagen = tf.keras.preprocessing.image.ImageDataGenerator(\n",
    "    rescale=1./255, validation_split=.20)#no data augmentation in the validation set\n",
    "test_datagen = tf.keras.preprocessing.image.ImageDataGenerator(\n",
    "    rescale=1./255)#no data augmentation in the test set    \n",
    "\n",
    "train_generator = train_datagen.flow_from_directory(\n",
    "    data_dir, subset=\"training\", shuffle=True,target_size=IMAGE_SIZE, batch_size=BATCH_SIZE,\n",
    "                   interpolation=\"bilinear\")\n",
    "valid_generator = valid_datagen.flow_from_directory(\n",
    "    data_dir, subset=\"validation\", shuffle=False, target_size=IMAGE_SIZE, batch_size=BATCH_SIZE,\n",
    "                   interpolation=\"bilinear\")\n",
    "test_generator = test_datagen.flow_from_directory(\n",
    "    testData_dir, shuffle=False, target_size=IMAGE_SIZE, batch_size=BATCH_SIZE,\n",
    "                   interpolation=\"bilinear\")         "
   ]
  },
  {
   "cell_type": "markdown",
   "metadata": {},
   "source": [
    "### Defining the model\n",
    "\n",
    "First let's create the feature extractor. Use trainable=False to freeze the variables in the feature extractor layer, so that the training only modifies the new classifier layer."
   ]
  },
  {
   "cell_type": "code",
   "execution_count": 63,
   "metadata": {},
   "outputs": [],
   "source": [
    "feature_extractor_layer = hub.KerasLayer(model_handle, trainable=False)"
   ]
  },
  {
   "cell_type": "markdown",
   "metadata": {},
   "source": [
    "Now let's attach a classification head after the feature extractor layer. Thta's mean we need to wrap the hub layer \n",
    "in a tf.keras.Sequential model, and add a new classification layer.\n",
    "\n",
    "For speed, we start out with a non-trainable feature_extractor_layer, but you can also enable fine-tuning for greater accuracy. Just change to trainable = True.  "
   ]
  },
  {
   "cell_type": "code",
   "execution_count": 64,
   "metadata": {},
   "outputs": [
    {
     "name": "stdout",
     "output_type": "stream",
     "text": [
      "Model: \"sequential_1\"\n",
      "_________________________________________________________________\n",
      "Layer (type)                 Output Shape              Param #   \n",
      "=================================================================\n",
      "keras_layer_1 (KerasLayer)   (None, 1792)              4363712   \n",
      "_________________________________________________________________\n",
      "dense_3 (Dense)              (None, 128)               229504    \n",
      "_________________________________________________________________\n",
      "dropout_2 (Dropout)          (None, 128)               0         \n",
      "_________________________________________________________________\n",
      "dense_4 (Dense)              (None, 64)                8256      \n",
      "_________________________________________________________________\n",
      "dropout_3 (Dropout)          (None, 64)                0         \n",
      "_________________________________________________________________\n",
      "dense_5 (Dense)              (None, 2)                 130       \n",
      "=================================================================\n",
      "Total params: 4,601,602\n",
      "Trainable params: 237,890\n",
      "Non-trainable params: 4,363,712\n",
      "_________________________________________________________________\n"
     ]
    }
   ],
   "source": [
    "model = tf.keras.Sequential([\n",
    "    tf.keras.layers.InputLayer(input_shape=IMAGE_SIZE + (3,)),\n",
    "    feature_extractor_layer,\n",
    "    #tf.keras.layers.Dropout(rate=0.2),    \n",
    "    tf.keras.layers.Dense(units=128, activation='relu', kernel_regularizer=tf.keras.regularizers.l2(0.0001)),\n",
    "    layers.Dropout(rate=0.2),\n",
    "    layers.Dense(units=64, activation='relu', kernel_regularizer=tf.keras.regularizers.l2(0.0001)),\n",
    "    layers.Dropout(rate=0.2),\n",
    "    #layers.Dense(units=train_generator.num_classes, activation='softmax')\n",
    "    tf.keras.layers.Dense(train_generator.num_classes, activation='softmax', kernel_regularizer=tf.keras.regularizers.l2(0.0001))\n",
    "])\n",
    "model.build((None,)+IMAGE_SIZE+(3,))\n",
    "model.summary()"
   ]
  },
  {
   "cell_type": "markdown",
   "metadata": {},
   "source": [
    "### Compile & Train the model "
   ]
  },
  {
   "cell_type": "code",
   "execution_count": 65,
   "metadata": {},
   "outputs": [],
   "source": [
    "model.compile(\n",
    "  optimizer=tf.keras.optimizers.SGD(learning_rate=0.005, momentum=0.9), \n",
    "  loss=tf.keras.losses.CategoricalCrossentropy(from_logits=True, label_smoothing=0.1),\n",
    "  metrics=['accuracy'])"
   ]
  },
  {
   "cell_type": "code",
   "execution_count": 66,
   "metadata": {},
   "outputs": [
    {
     "name": "stdout",
     "output_type": "stream",
     "text": [
      "Epoch 1/8\n"
     ]
    },
    {
     "name": "stderr",
     "output_type": "stream",
     "text": [
      "C:\\Users\\maryl\\anaconda3\\lib\\site-packages\\keras\\backend.py:4846: UserWarning: \"`categorical_crossentropy` received `from_logits=True`, but the `output` argument was produced by a sigmoid or softmax activation and thus does not represent logits. Was this intended?\"\n",
      "  warnings.warn(\n"
     ]
    },
    {
     "name": "stdout",
     "output_type": "stream",
     "text": [
      "34/34 [==============================] - 64s 2s/step - loss: 0.6508 - accuracy: 0.6954 - val_loss: 0.5320 - val_accuracy: 0.7891\n",
      "Epoch 2/8\n",
      "34/34 [==============================] - 46s 1s/step - loss: 0.4383 - accuracy: 0.8704 - val_loss: 0.4006 - val_accuracy: 0.8711\n",
      "Epoch 3/8\n",
      "34/34 [==============================] - 61s 2s/step - loss: 0.3834 - accuracy: 0.9167 - val_loss: 0.4474 - val_accuracy: 0.8633\n",
      "Epoch 4/8\n",
      "34/34 [==============================] - 67s 2s/step - loss: 0.3610 - accuracy: 0.9380 - val_loss: 0.3719 - val_accuracy: 0.9180\n",
      "Epoch 5/8\n",
      "34/34 [==============================] - 57s 2s/step - loss: 0.3442 - accuracy: 0.9426 - val_loss: 0.4751 - val_accuracy: 0.8594\n",
      "Epoch 6/8\n",
      "34/34 [==============================] - 45s 1s/step - loss: 0.3363 - accuracy: 0.9435 - val_loss: 0.4331 - val_accuracy: 0.8867\n",
      "Epoch 7/8\n",
      "34/34 [==============================] - 67s 2s/step - loss: 0.3156 - accuracy: 0.9620 - val_loss: 0.4183 - val_accuracy: 0.8867\n",
      "Epoch 8/8\n",
      "34/34 [==============================] - 73s 2s/step - loss: 0.3088 - accuracy: 0.9611 - val_loss: 0.4932 - val_accuracy: 0.8438\n"
     ]
    }
   ],
   "source": [
    "steps_per_epoch = train_generator.samples // train_generator.batch_size\n",
    "validation_steps = valid_generator.samples // valid_generator.batch_size\n",
    "epochs = 8\n",
    "hist = model.fit(\n",
    "    train_generator,\n",
    "    epochs=epochs, steps_per_epoch=steps_per_epoch,\n",
    "    validation_data=valid_generator,\n",
    "    validation_steps=validation_steps,  callbacks = [tensorboard_cb, early_stopping_cb, checkpoint_cb]).history"
   ]
  },
  {
   "cell_type": "markdown",
   "metadata": {},
   "source": [
    "Let's track the training (one can also use TensorBoard!)"
   ]
  },
  {
   "cell_type": "code",
   "execution_count": 67,
   "metadata": {},
   "outputs": [
    {
     "data": {
      "text/plain": [
       "[<matplotlib.lines.Line2D at 0x1f21457f580>]"
      ]
     },
     "execution_count": 67,
     "metadata": {},
     "output_type": "execute_result"
    },
    {
     "data": {
      "image/png": "[encoded data removed]",
      "text/plain": [
       "<Figure size 432x288 with 1 Axes>"
      ]
     },
     "metadata": {
      "needs_background": "light"
     },
     "output_type": "display_data"
    },
    {
     "data": {
      "image/png": "[encoded data removed]",
      "text/plain": [
       "<Figure size 432x288 with 1 Axes>"
      ]
     },
     "metadata": {
      "needs_background": "light"
     },
     "output_type": "display_data"
    }
   ],
   "source": [
    "plt.figure()\n",
    "plt.ylabel(\"Loss (training and validation)\")\n",
    "plt.xlabel(\"Training Steps\")\n",
    "plt.ylim([0,2])\n",
    "plt.plot(hist[\"loss\"], color=\"blue\", label='Training Loss')\n",
    "plt.plot(hist[\"val_loss\"], color=\"red\", label='Validation Loss')\n",
    "\n",
    "plt.figure()\n",
    "plt.ylabel(\"Accuracy (training and validation)\")\n",
    "plt.xlabel(\"Training Steps\")\n",
    "plt.ylim([0,1])\n",
    "plt.plot(hist[\"accuracy\"], color=\"blue\", label='Training Loss')\n",
    "plt.plot(hist[\"val_accuracy\"], color=\"red\", label='Validation Loss')"
   ]
  },
  {
   "cell_type": "markdown",
   "metadata": {},
   "source": [
    "Create plots of loss and accuracy on the training and validation sets."
   ]
  },
  {
   "cell_type": "code",
   "execution_count": 68,
   "metadata": {},
   "outputs": [
    {
     "data": {
      "image/png": "[encoded data removed]",
      "text/plain": [
       "<Figure size 576x576 with 2 Axes>"
      ]
     },
     "metadata": {
      "needs_background": "light"
     },
     "output_type": "display_data"
    }
   ],
   "source": [
    "acc = hist['accuracy']\n",
    "val_acc = hist['val_accuracy']\n",
    "\n",
    "loss = hist['loss']\n",
    "val_loss = hist['val_loss']\n",
    "\n",
    "\n",
    "epochs_range = range(epochs)\n",
    "\n",
    "plt.figure(figsize=(8, 8))\n",
    "plt.subplot(1, 2, 1)\n",
    "plt.plot(epochs_range, acc, label='Training Accuracy')\n",
    "plt.plot(epochs_range, val_acc, label='Validation Accuracy')\n",
    "plt.legend(loc='lower right')\n",
    "plt.title('Training and Validation Accuracy')\n",
    "\n",
    "plt.subplot(1, 2, 2)\n",
    "plt.plot(epochs_range, loss, label='Training Loss')\n",
    "plt.plot(epochs_range, val_loss, label='Validation Loss')\n",
    "plt.legend(loc='upper right')\n",
    "plt.title('Training and Validation Loss')\n",
    "plt.show()"
   ]
  },
  {
   "cell_type": "markdown",
   "metadata": {},
   "source": [
    "## Reload a pretrained model"
   ]
  },
  {
   "cell_type": "code",
   "execution_count": 77,
   "metadata": {},
   "outputs": [
    {
     "name": "stdout",
     "output_type": "stream",
     "text": [
      "Model: \"sequential_1\"\n",
      "_________________________________________________________________\n",
      "Layer (type)                 Output Shape              Param #   \n",
      "=================================================================\n",
      "keras_layer_1 (KerasLayer)   (None, 1792)              4363712   \n",
      "_________________________________________________________________\n",
      "dense_3 (Dense)              (None, 128)               229504    \n",
      "_________________________________________________________________\n",
      "dropout_2 (Dropout)          (None, 128)               0         \n",
      "_________________________________________________________________\n",
      "dense_4 (Dense)              (None, 64)                8256      \n",
      "_________________________________________________________________\n",
      "dropout_3 (Dropout)          (None, 64)                0         \n",
      "_________________________________________________________________\n",
      "dense_5 (Dense)              (None, 2)                 130       \n",
      "=================================================================\n",
      "Total params: 4,601,602\n",
      "Trainable params: 237,890\n",
      "Non-trainable params: 4,363,712\n",
      "_________________________________________________________________\n"
     ]
    }
   ],
   "source": [
    "# Reconstruct the model with keras\n",
    "# model_name_toreload = \"mobilenet_v2_140_224\"\n",
    "# pretrained_model_path = f\"./tmp/saved_sunSpotter_model_{model_name}\"\n",
    "\n",
    "#H5 format\n",
    "#pretrained_model_path = f\"./sunSpotter_keras_transferLearning_model_mobilenet_v2_140_224_finetuned.h5\"\n",
    "# pretrained_model_path = f\"./sunSpotter_keras_transferLearning_model_mobilenet_v2_140_224.h5\"\n",
    "pretrained_model_path = f\"sunSpotter_keras_transferLearning_model.h5\"\n",
    "model = keras.models.load_model(pretrained_model_path, custom_objects={'KerasLayer':hub.KerasLayer})\n",
    "model.summary()"
   ]
  },
  {
   "cell_type": "markdown",
   "metadata": {},
   "source": [
    "## Predict on trainings data"
   ]
  },
  {
   "cell_type": "markdown",
   "metadata": {},
   "source": [
    "Try out the model on an image from the validation data:"
   ]
  },
  {
   "cell_type": "code",
   "execution_count": 104,
   "metadata": {},
   "outputs": [
    {
     "data": {
      "image/png": "[encoded data removed]",
      "text/plain": [
       "<Figure size 432x288 with 1 Axes>"
      ]
     },
     "metadata": {
      "needs_background": "light"
     },
     "output_type": "display_data"
    },
    {
     "name": "stdout",
     "output_type": "stream",
     "text": [
      "True label: notSunny\n",
      "Predicted label: notSunny\n"
     ]
    }
   ],
   "source": [
    "def get_class_string_from_index(index):\n",
    "   for class_string, class_index in valid_generator.class_indices.items():\n",
    "      if class_index == index:\n",
    "         return class_string\n",
    "\n",
    "x, y = next(valid_generator)\n",
    "image = x[0, :, :, :]\n",
    "true_index = np.argmax(y[0])\n",
    "plt.imshow(image)\n",
    "plt.axis('off')\n",
    "plt.show()\n",
    "\n",
    "# Expand the validation image to (1, 224, 224, 3) before predicting the label\n",
    "prediction_scores = model.predict(np.expand_dims(image, axis=0))\n",
    "predicted_index = np.argmax(prediction_scores)\n",
    "print(\"True label: \" + get_class_string_from_index(true_index))\n",
    "print(\"Predicted label: \" + get_class_string_from_index(predicted_index))"
   ]
  },
  {
   "cell_type": "markdown",
   "metadata": {},
   "source": [
    "show the confidence level of the preditions (most likely and least likely):"
   ]
  },
  {
   "cell_type": "code",
   "execution_count": 79,
   "metadata": {},
   "outputs": [
    {
     "name": "stdout",
     "output_type": "stream",
     "text": [
      "tf.Tensor([0.7050322 0.2949678], shape=(2,), dtype=float32)\n",
      "This image most likely belongs to notSunny with a 70.50 percent confidence.\n",
      "This image most unlikely belongs to sunny with a 29.50 percent confidence.\n"
     ]
    }
   ],
   "source": [
    "score = tf.nn.softmax(prediction_scores[0])\n",
    "# print score of all classes\n",
    "print(score)\n",
    "# print score of most likely class\n",
    "print(\n",
    "    \"This image most likely belongs to {} with a {:.2f} percent confidence.\"\n",
    "    .format(get_class_string_from_index(np.argmax(score)), 100 * np.max(score))\n",
    ")\n",
    "# pring score of least likely class\n",
    "print(\n",
    "    \"This image most unlikely belongs to {} with a {:.2f} percent confidence.\"\n",
    "    .format(get_class_string_from_index(np.argmin(score)), 100 * np.min(score))\n",
    ")"
   ]
  },
  {
   "cell_type": "markdown",
   "metadata": {},
   "source": [
    "## Predict on new data\n",
    "\n",
    "Result is unfortunately pretty bad, it doesnt matter if we choose a picture where there is sun or rain, it always predicts the th same class with a 100% confidence. "
   ]
  },
  {
   "cell_type": "code",
   "execution_count": 92,
   "metadata": {},
   "outputs": [
    {
     "name": "stdout",
     "output_type": "stream",
     "text": [
      "Number of test data: 200\n",
      "Found 200 files belonging to 2 classes.\n",
      "['notSunny', 'sunny']\n",
      "<class 'numpy.ndarray'>\n",
      "True labels: \n",
      "[0 0 1 1 1 1 0 0 0 1 0 0 0 0 0 1 1 1 1 0 0 1 1 0 1 1 0 0 1 0 0 0 0 0 1 0 0\n",
      " 0 1 0 1 0 0 0 1 1 0 0 0 1 0 1 0 1 0 1 1 0 1 1 0 1 0 0 0 0 1 0 1 1 0 1 0 1\n",
      " 0 0 1 1 0 1 0 1 1 0 0 0 1 0 1 1 1 1 1 1 0 0 1 1 0 1 0 1 0 1 1 0 0 0 1 1 0\n",
      " 1 0 0 0 0 0 0 1 0 1 0 1 1 0 0 1 1 1 1 0 1 1 1 1 0 0 1 1 1 0 1 1 1 0 1 1 0\n",
      " 1 1 0 0 0 0 0 0 1 1 0 0 1 1 0 1 0 1 0 1 0 1 1 1 1 0 0 1 1 1 1 1 1 0 0 0 1\n",
      " 0 1 1 0 0 0 1 0 0 1 0 0 1 1 1]\n",
      "Predicted labels: \n",
      "[1 1 1 1 1 1 1 0 1 1 1 1 1 1 0 1 1 1 1 1 0 1 1 0 1 1 0 0 1 1 0 1 1 1 1 1 0\n",
      " 1 1 0 1 1 0 1 0 1 1 0 1 1 1 1 0 1 0 1 1 0 1 1 1 1 1 0 1 0 1 1 1 1 1 1 0 1\n",
      " 0 1 1 0 1 0 1 0 1 1 1 1 1 1 0 1 0 0 0 1 1 1 0 1 1 1 1 1 1 1 0 0 1 1 1 0 1\n",
      " 0 0 1 1 1 1 1 1 0 1 0 1 1 1 1 1 1 0 1 1 1 1 1 1 1 1 1 1 1 1 1 1 0 1 0 1 1\n",
      " 1 1 0 1 0 0 0 0 1 1 1 1 1 1 1 1 1 1 1 1 0 0 1 1 0 0 0 1 1 0 1 0 0 0 0 1 1\n",
      " 1 1 0 0 0 0 0 1 1 0 1 1 0 1 1]\n"
     ]
    },
    {
     "data": {
      "image/png": "[encoded data removed]",
      "text/plain": [
       "<Figure size 144x144 with 2 Axes>"
      ]
     },
     "metadata": {
      "needs_background": "light"
     },
     "output_type": "display_data"
    }
   ],
   "source": [
    "#load test dataset with function image_dataset_from_directory\n",
    "image_test_count = len(list(testData_dir.glob('*/*.jpg'))) \n",
    "print(\"Number of test data: {}\".format(image_test_count))\n",
    "test_ds = tf.keras.preprocessing.image_dataset_from_directory(\n",
    "    testData_dir,\n",
    "    seed=123,\n",
    "    image_size=(IMAGE_SIZE[0], IMAGE_SIZE[1]),\n",
    "    batch_size=BATCH_SIZE)\n",
    "#AUTOTUNE = tf.data.AUTOTUNE\n",
    "#test_ds =  test_ds.cache().prefetch(buffer_size=AUTOTUNE)\n",
    "\n",
    "class_names = test_ds.class_names\n",
    "print(class_names)\n",
    "\n",
    "#print(test_ds)\n",
    "y = np.concatenate([y for x, y in test_ds], axis=0)\n",
    "print(type(y))\n",
    "print(\"True labels: \\n{}\".format(y))\n",
    "\n",
    "predictions = model.predict(test_ds)\n",
    "scores = np.empty_like(y)\n",
    "\n",
    "#print(y.size)\n",
    "#print(len(predictions))\n",
    "#print(scores.size)\n",
    "\n",
    "for i in range(len(predictions)):\n",
    "  score = tf.nn.softmax(predictions[i])\n",
    "  scores[i] = np.argmax(score)\n",
    "  #print(scores[i])\n",
    "\n",
    "print(\"Predicted labels: \\n{}\".format((scores)))\n",
    "\n",
    "con_mat_df = tf.math.confusion_matrix(labels= y, predictions = scores)\n",
    "\n",
    "import seaborn as sns\n",
    "figure = plt.figure(figsize=(2, 2))\n",
    "sns.heatmap(con_mat_df, annot=True,cmap=plt.cm.Blues)\n",
    "plt.tight_layout()\n",
    "plt.ylabel('True label')\n",
    "plt.xlabel('Predicted label')\n",
    "plt.show()"
   ]
  },
  {
   "cell_type": "code",
   "execution_count": 93,
   "metadata": {},
   "outputs": [
    {
     "name": "stdout",
     "output_type": "stream",
     "text": [
      "Confusion Matrix\n",
      "[[61 39]\n",
      " [ 6 94]]\n",
      "Classification Report\n",
      "              precision    recall  f1-score   support\n",
      "\n",
      "   not Sunny       0.91      0.61      0.73       100\n",
      "       Sunny       0.71      0.94      0.81       100\n",
      "\n",
      "    accuracy                           0.78       200\n",
      "   macro avg       0.81      0.77      0.77       200\n",
      "weighted avg       0.81      0.78      0.77       200\n",
      "\n"
     ]
    },
    {
     "data": {
      "image/png": "[encoded data removed]",
      "text/plain": [
       "<Figure size 144x144 with 2 Axes>"
      ]
     },
     "metadata": {
      "needs_background": "light"
     },
     "output_type": "display_data"
    }
   ],
   "source": [
    "#Confution Matrix and Classification Report\n",
    "from sklearn.metrics import classification_report, confusion_matrix\n",
    "Y_pred = model.predict(test_generator, 200 // BATCH_SIZE+1)\n",
    "y_pred = np.argmax(Y_pred, axis=1)\n",
    "print('Confusion Matrix')\n",
    "con_mat_df = confusion_matrix(test_generator.classes, y_pred)\n",
    "print(confusion_matrix(test_generator.classes, y_pred))\n",
    "print('Classification Report')\n",
    "target_names = ['not Sunny', 'Sunny']\n",
    "print(classification_report(test_generator.classes, y_pred, target_names=target_names))\n",
    "\n",
    "figure = plt.figure(figsize=(2, 2))\n",
    "sns.heatmap(con_mat_df, annot=True,cmap=plt.cm.Blues)\n",
    "plt.tight_layout()\n",
    "plt.ylabel('True label')\n",
    "plt.xlabel('Predicted label')\n",
    "plt.show()"
   ]
  },
  {
   "cell_type": "code",
   "execution_count": 85,
   "metadata": {},
   "outputs": [
    {
     "name": "stdout",
     "output_type": "stream",
     "text": [
      "tf.Tensor([0.5368174 0.4631826], shape=(2,), dtype=float32)\n",
      "This image most likely belongs to notSunny with a 53.68 percent confidence.\n",
      "This image most unlikely belongs to sunny with a 46.32 percent confidence.\n"
     ]
    }
   ],
   "source": [
    "#sunny_url = https://www.foto-webcam.eu/webcam/tschagguns/2021/06/01/1140_hu.jpg\n",
    "#sunny_url = https://www.foto-webcam.eu/webcam/tschagguns/2021/05/28/1510_hu.jpg\n",
    "#sunny_url = \"https://www.foto-webcam.eu/webcam/tschagguns/2021/06/01/1140_hu.jpg\"\n",
    "#sunny_url = \"https://www.foto-webcam.eu/webcam/schroecken/2021/06/09/0830_lm.jpg\"\n",
    "#sunny_url = \"https://www.foto-webcam.eu/webcam/feldkirch/2021/06/13/0910_lm.jpg\"\n",
    "sunny_url = \"https://www.foto-webcam.eu/webcam/brunnen/2021/06/09/0830_lm.jpg\"\n",
    "\n",
    "sunny_path = tf.keras.utils.get_file('SunnyWheater', origin=sunny_url)\n",
    "\n",
    "img = keras.preprocessing.image.load_img(\n",
    "    sunny_path, target_size=(IMAGE_SIZE)\n",
    ")\n",
    "img_array = keras.preprocessing.image.img_to_array(img)\n",
    "img_array = tf.expand_dims(img_array, 0) # Create a batch\n",
    "\n",
    "predictions = model.predict(img_array)\n",
    "score = tf.nn.softmax(predictions[0])\n",
    "\n",
    "print(score)\n",
    "print(\n",
    "    \"This image most likely belongs to {} with a {:.2f} percent confidence.\"\n",
    "    .format(get_class_string_from_index(np.argmax(score)), 100 * np.max(score))\n",
    ")\n",
    "\n",
    "print(\n",
    "    \"This image most unlikely belongs to {} with a {:.2f} percent confidence.\"\n",
    "    .format(get_class_string_from_index(np.argmin(score)), 100 * np.min(score))\n",
    ")"
   ]
  },
  {
   "cell_type": "code",
   "execution_count": 86,
   "metadata": {},
   "outputs": [
    {
     "name": "stdout",
     "output_type": "stream",
     "text": [
      "tf.Tensor([0.5706207  0.42937928], shape=(2,), dtype=float32)\n",
      "This image most likely belongs to notSunny with a 57.06 percent confidence.\n",
      "This image most unlikely belongs to sunny with a 42.94 percent confidence.\n"
     ]
    }
   ],
   "source": [
    "cloudy_url = \"https://www.foto-webcam.eu/webcam/tschagguns/2021/05/27/1510_hu.jpg\"\n",
    "#cloudy_url = \"https://www.foto-webcam.eu/webcam/roethis-west/current/180.jpg?1623220198\"\n",
    "#cloudy_url = \"https://www.foto-webcam.eu/webcam/saalfelden/2021/06/13/0920_lm.jpg\"\n",
    "#cloudy_url = \"https://www.foto-webcam.eu/webcam/zellamsee/2021/06/13/0920_lm.jpg\"\n",
    "#cloudy_url = \"https://www.foto-webcam.eu/webcam/burgstalleralm/2021/06/13/0920_lm.jpg\"\n",
    "\n",
    "cloudy_path = tf.keras.utils.get_file('CloudyWheater', origin=cloudy_url)\n",
    "\n",
    "img = keras.preprocessing.image.load_img(\n",
    "    cloudy_path, target_size=(IMAGE_SIZE)\n",
    ")\n",
    "img_array = keras.preprocessing.image.img_to_array(img)\n",
    "img_array = tf.expand_dims(img_array, 0) # Create a batch\n",
    "\n",
    "predictions = model.predict(img_array)\n",
    "score = tf.nn.softmax(predictions[0])\n",
    "\n",
    "print(score)\n",
    "print(\n",
    "    \"This image most likely belongs to {} with a {:.2f} percent confidence.\"\n",
    "    .format(get_class_string_from_index(np.argmax(score)), 100 * np.max(score))\n",
    ")\n",
    "\n",
    "print(\n",
    "    \"This image most unlikely belongs to {} with a {:.2f} percent confidence.\"\n",
    "    .format(get_class_string_from_index(np.argmin(score)), 100 * np.min(score))\n",
    ")"
   ]
  },
  {
   "cell_type": "code",
   "execution_count": 87,
   "metadata": {},
   "outputs": [
    {
     "name": "stdout",
     "output_type": "stream",
     "text": [
      "tf.Tensor([0.6365326 0.3634674], shape=(2,), dtype=float32)\n",
      "This image most likely belongs to notSunny with a 63.65 percent confidence.\n",
      "This image most unlikely belongs to sunny with a 36.35 percent confidence.\n"
     ]
    }
   ],
   "source": [
    "#rainy_url = \"https://www.foto-webcam.eu/webcam/zugspitze-nord/2021/06/13/0910_lm.jpg\"\n",
    "#rainy_url = \"https://www.foto-webcam.eu/webcam/kalsertal/2021/06/13/0920_lm.jpg\"\n",
    "rainy_url = \"https://www.foto-webcam.eu/webcam/pendling-west/2021/06/13/0920_lm.jpg\"\n",
    "rainy_path = tf.keras.utils.get_file('RainyWheater', origin=rainy_url)\n",
    "\n",
    "img = keras.preprocessing.image.load_img(\n",
    "    rainy_path, target_size=(IMAGE_SIZE)\n",
    ")\n",
    "img_array = keras.preprocessing.image.img_to_array(img)\n",
    "img_array = tf.expand_dims(img_array, 0) # Create a batch\n",
    "\n",
    "predictions = model.predict(img_array)\n",
    "score = tf.nn.softmax(predictions[0])\n",
    "\n",
    "print(score)\n",
    "print(\n",
    "    \"This image most likely belongs to {} with a {:.2f} percent confidence.\"\n",
    "    .format(get_class_string_from_index(np.argmax(score)), 100 * np.max(score))\n",
    ")\n",
    "\n",
    "print(\n",
    "    \"This image most unlikely belongs to {} with a {:.2f} percent confidence.\"\n",
    "    .format(get_class_string_from_index(np.argmin(score)), 100 * np.min(score))\n",
    ")"
   ]
  },
  {
   "cell_type": "markdown",
   "metadata": {},
   "source": [
    "## Save the model"
   ]
  },
  {
   "cell_type": "code",
   "execution_count": 77,
   "metadata": {},
   "outputs": [
    {
     "name": "stdout",
     "output_type": "stream",
     "text": [
      "WARNING:tensorflow:FOR KERAS USERS: The object that you are saving contains one or more Keras models or layers. If you are loading the SavedModel with `tf.keras.models.load_model`, continue reading (otherwise, you may ignore the following instructions). Please change your code to save with `tf.keras.models.save_model` or `model.save`, and confirm that the file \"keras.metadata\" exists in the export directory. In the future, Keras will only load the SavedModels that have this file. In other words, `tf.saved_model.save` will no longer write SavedModels that can be recovered as Keras models (this will apply in TF 2.5).\n",
      "\n",
      "FOR DEVS: If you are overwriting _tracking_metadata in your class, this property has been used to save metadata in the SavedModel. The metadta field will be deprecated soon, so please move the metadata to a different file.\n",
      "WARNING:tensorflow:FOR KERAS USERS: The object that you are saving contains one or more Keras models or layers. If you are loading the SavedModel with `tf.keras.models.load_model`, continue reading (otherwise, you may ignore the following instructions). Please change your code to save with `tf.keras.models.save_model` or `model.save`, and confirm that the file \"keras.metadata\" exists in the export directory. In the future, Keras will only load the SavedModels that have this file. In other words, `tf.saved_model.save` will no longer write SavedModels that can be recovered as Keras models (this will apply in TF 2.5).\n",
      "\n",
      "FOR DEVS: If you are overwriting _tracking_metadata in your class, this property has been used to save metadata in the SavedModel. The metadta field will be deprecated soon, so please move the metadata to a different file.\n",
      "INFO:tensorflow:Assets written to: ./tmp/saved_sunSpotter_model_mobilenet_v2_140_224\\assets\n",
      "INFO:tensorflow:Assets written to: ./tmp/saved_sunSpotter_model_mobilenet_v2_140_224\\assets\n"
     ]
    }
   ],
   "source": [
    "saved_model_path = f\"./tmp/saved_sunSpotter_model_{model_name}\"\n",
    "tf.saved_model.save(model, saved_model_path)"
   ]
  },
  {
   "cell_type": "code",
   "execution_count": 78,
   "metadata": {},
   "outputs": [],
   "source": [
    "#Sources: Adapted from A. Géron, Hands-on Machine Learning with Scikit-Learn, Keras, Tensorflow, O’Reilly, \n",
    "#https://www.tensorflow.org/hub/tutorials/tf2_image_retraining, https://www.tensorflow.org/tutorials/images/transfer_learning"
   ]
  }
 ],
 "metadata": {
  "interpreter": {
   "hash": "a2e8aa6278afb2954b98fc603af92f6192516ee277dddc522be9a15fdfd59dcc"
  },
  "kernelspec": {
   "display_name": "Python 3.8.8 64-bit (conda)",
   "name": "python3"
  },
  "language_info": {
   "codemirror_mode": {
    "name": "ipython",
    "version": 3
   },
   "file_extension": ".py",
   "mimetype": "text/x-python",
   "name": "python",
   "nbconvert_exporter": "python",
   "pygments_lexer": "ipython3",
   "version": "3.8.8"
  },
  "orig_nbformat": 2
 },
 "nbformat": 4,
 "nbformat_minor": 2
}
