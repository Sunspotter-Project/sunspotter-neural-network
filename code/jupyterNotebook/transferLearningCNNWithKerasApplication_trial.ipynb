{
 "cells": [
  {
   "cell_type": "code",
   "execution_count": null,
   "metadata": {},
   "outputs": [],
   "source": [
    "import tensorflow as tf\n",
    "import numpy as np\n",
    "import time\n",
    "import PIL.Image as Image\n",
    "import tensorflow_hub as hub\n",
    "import seaborn as sns\n",
    "\n",
    "from tensorflow import keras\n",
    "from tensorflow.keras import layers\n",
    "from tensorflow.keras.models import Sequential\n",
    "\n",
    "# Display\n",
    "from IPython.display import Image, display\n",
    "import matplotlib.pyplot as plt\n",
    "import matplotlib.cm as cm\n"
   ]
  },
  {
   "cell_type": "code",
   "execution_count": null,
   "metadata": {},
   "outputs": [],
   "source": [
    "# Marion FROM  https://www.tensorflow.org/tutorials/images/transfer_learning\n",
    "generate_mode_with_keras_applications = True\n",
    "if generate_mode_with_keras_applications:\n",
    "  #_URL = 'https://storage.googleapis.com/mledu-datasets/cats_and_dogs_filtered.zip'\n",
    "  #path_to_zip = tf.keras.utils.get_file('cats_and_dogs.zip', origin=_URL, extract=True)\n",
    "  #PATH = os.path.join(os.path.dirname(path_to_zip), 'cats_and_dogs_filtered')\n",
    "  PATH = os.path.join('C:\\\\Users\\\\maryl\\\\.keras\\\\datasets\\\\', 'sunspotter')\n",
    "\n",
    "  train_dir = os.path.join(PATH, 'train')\n",
    "  validation_dir = os.path.join(PATH, 'validation')\n",
    "\n",
    "  BATCH_SIZE = 32\n",
    "  IMG_SIZE = (160, 160)\n",
    "\n",
    "  train_dataset = tf.keras.utils.image_dataset_from_directory(train_dir,\n",
    "                                                              shuffle=True,\n",
    "                                                              batch_size=BATCH_SIZE,\n",
    "                                                              image_size=IMG_SIZE)\n",
    "\n",
    "  validation_dataset = tf.keras.utils.image_dataset_from_directory(validation_dir,\n",
    "                                                                  shuffle=True,\n",
    "                                                                  batch_size=BATCH_SIZE,\n",
    "                                                                  image_size=IMG_SIZE)\n",
    "  class_names = train_dataset.class_names\n",
    "\n",
    "  plt.figure(figsize=(10, 10))\n",
    "  for images, labels in train_dataset.take(1):\n",
    "    for i in range(9):\n",
    "      ax = plt.subplot(3, 3, i + 1)\n",
    "      plt.imshow(images[i].numpy().astype(\"uint8\"))\n",
    "      plt.title(class_names[labels[i]])\n",
    "      plt.axis(\"off\")"
   ]
  },
  {
   "cell_type": "code",
   "execution_count": null,
   "metadata": {},
   "outputs": [],
   "source": [
    "if generate_mode_with_keras_applications:\n",
    "    #The original dataset doesn't contain a test set, therefore create one. To do so, determine how many batches of data are available in the validation set using tf.data.experimental.cardinality, then move 20% of them to a test set.\n",
    "    #val_batches = tf.data.experimental.cardinality(validation_dataset)\n",
    "    test_dataset = validation_dataset.take(val_batches // 5)\n",
    "    validation_dataset = validation_dataset.skip(val_batches // 5)\n",
    "\n",
    "    print('Number of validation batches: %d' % tf.data.experimental.cardinality(validation_dataset))\n",
    "    print('Number of test batches: %d' % tf.data.experimental.cardinality(test_dataset))"
   ]
  },
  {
   "cell_type": "code",
   "execution_count": null,
   "metadata": {},
   "outputs": [],
   "source": [
    "if generate_mode_with_keras_applications:\n",
    "    AUTOTUNE = tf.data.AUTOTUNE\n",
    "\n",
    "    train_dataset = train_dataset.prefetch(buffer_size=AUTOTUNE)\n",
    "    validation_dataset = validation_dataset.prefetch(buffer_size=AUTOTUNE)\n",
    "    test_dataset = test_dataset.prefetch(buffer_size=AUTOTUNE)"
   ]
  },
  {
   "cell_type": "code",
   "execution_count": null,
   "metadata": {},
   "outputs": [],
   "source": [
    "if generate_mode_with_keras_applications:\n",
    "  data_augmentation = tf.keras.Sequential([\n",
    "    tf.keras.layers.RandomFlip('horizontal'),\n",
    "    tf.keras.layers.RandomRotation(0.2),\n",
    "  ])"
   ]
  },
  {
   "cell_type": "code",
   "execution_count": null,
   "metadata": {},
   "outputs": [],
   "source": [
    "if generate_mode_with_keras_applications:\n",
    "  for image, _ in train_dataset.take(1):\n",
    "    plt.figure(figsize=(10, 10))\n",
    "    first_image = image[0]\n",
    "    for i in range(9):\n",
    "      ax = plt.subplot(3, 3, i + 1)\n",
    "      augmented_image = data_augmentation(tf.expand_dims(first_image, 0))\n",
    "      plt.imshow(augmented_image[0] / 255)\n",
    "      plt.axis('off')"
   ]
  },
  {
   "cell_type": "code",
   "execution_count": null,
   "metadata": {},
   "outputs": [],
   "source": [
    "if generate_mode_with_keras_applications:\n",
    "    preprocess_input = tf.keras.applications.mobilenet_v2.preprocess_input\n",
    "    rescale = tf.keras.layers.Rescaling(1./127.5, offset=-1)"
   ]
  },
  {
   "cell_type": "code",
   "execution_count": null,
   "metadata": {},
   "outputs": [],
   "source": [
    "if generate_mode_with_keras_applications:\n",
    "    # Create the base model from the pre-trained model MobileNet V2\n",
    "    IMG_SHAPE = IMG_SIZE + (3,)\n",
    "    base_model = tf.keras.applications.MobileNetV2(input_shape=IMG_SHAPE,\n",
    "                                                include_top=False,\n",
    "                                                weights='imagenet')"
   ]
  },
  {
   "cell_type": "code",
   "execution_count": null,
   "metadata": {},
   "outputs": [],
   "source": [
    "if generate_mode_with_keras_applications:\n",
    "    image_batch, label_batch = next(iter(train_dataset))\n",
    "    feature_batch = base_model(image_batch)\n",
    "    print(feature_batch.shape)"
   ]
  },
  {
   "cell_type": "code",
   "execution_count": null,
   "metadata": {},
   "outputs": [],
   "source": [
    "if generate_mode_with_keras_applications:\n",
    "    base_model.trainable = False"
   ]
  },
  {
   "cell_type": "code",
   "execution_count": null,
   "metadata": {
    "executionInfo": {
     "elapsed": 11,
     "status": "ok",
     "timestamp": 1638531213132,
     "user": {
      "displayName": "Marion Mürner",
      "photoUrl": "https://lh3.googleusercontent.com/a/default-user=s64",
      "userId": "08295470163018775624"
     },
     "user_tz": -60
    },
    "id": "vw5GHtKTyWJE"
   },
   "outputs": [],
   "source": [
    "# iterate over the batches yielded by the dataset.\n",
    "#for data, labels in train_generator:\n",
    "#   print(data.shape)  # (32, 200, 200, 3)\n",
    "#   print(data.dtype)  # float32\n",
    "#   print(labels.shape)  # (32,)\n",
    "#   print(labels.dtype)  # int32"
   ]
  },
  {
   "cell_type": "code",
   "execution_count": null,
   "metadata": {},
   "outputs": [],
   "source": [
    "if generate_mode_with_keras_applications:\n",
    "    # Let's take a look at the base model architecture\n",
    "    base_model.summary()"
   ]
  },
  {
   "cell_type": "code",
   "execution_count": null,
   "metadata": {},
   "outputs": [],
   "source": [
    "if generate_mode_with_keras_applications:\n",
    "    global_average_layer = tf.keras.layers.GlobalAveragePooling2D()\n",
    "    feature_batch_average = global_average_layer(feature_batch)\n",
    "    print(feature_batch_average.shape)"
   ]
  },
  {
   "cell_type": "code",
   "execution_count": null,
   "metadata": {},
   "outputs": [],
   "source": [
    "if generate_mode_with_keras_applications:\n",
    "    prediction_layer = tf.keras.layers.Dense(1)\n",
    "    prediction_batch = prediction_layer(feature_batch_average)\n",
    "    print(prediction_batch.shape)"
   ]
  },
  {
   "cell_type": "code",
   "execution_count": null,
   "metadata": {},
   "outputs": [],
   "source": [
    "if generate_mode_with_keras_applications:\n",
    "    inputs = tf.keras.Input(shape=(160, 160, 3))\n",
    "    x = data_augmentation(inputs)\n",
    "    x = preprocess_input(x)\n",
    "    x = base_model(x, training=False)\n",
    "    x = global_average_layer(x)\n",
    "    x = tf.keras.layers.Dropout(0.2)(x)\n",
    "    outputs = prediction_layer(x)\n",
    "    model = tf.keras.Model(inputs, outputs)"
   ]
  },
  {
   "cell_type": "code",
   "execution_count": null,
   "metadata": {},
   "outputs": [],
   "source": [
    "if generate_mode_with_keras_applications:\n",
    "    base_learning_rate = 0.0001\n",
    "    model.compile(optimizer=tf.keras.optimizers.Adam(learning_rate=base_learning_rate),\n",
    "                  loss=tf.keras.losses.BinaryCrossentropy(from_logits=True),\n",
    "                  metrics=['accuracy'])"
   ]
  },
  {
   "cell_type": "code",
   "execution_count": null,
   "metadata": {},
   "outputs": [],
   "source": [
    "if generate_mode_with_keras_applications:\n",
    "    model.summary()"
   ]
  },
  {
   "cell_type": "code",
   "execution_count": null,
   "metadata": {},
   "outputs": [],
   "source": [
    "if generate_mode_with_keras_applications:\n",
    "    len(model.trainable_variables)"
   ]
  },
  {
   "cell_type": "code",
   "execution_count": null,
   "metadata": {},
   "outputs": [],
   "source": [
    "if generate_mode_with_keras_applications:\n",
    "    initial_epochs = 10\n",
    "\n",
    "    loss0, accuracy0 = model.evaluate(validation_dataset)"
   ]
  },
  {
   "cell_type": "code",
   "execution_count": null,
   "metadata": {},
   "outputs": [],
   "source": [
    "if generate_mode_with_keras_applications:\n",
    "    print(\"initial loss: {:.2f}\".format(loss0))\n",
    "    print(\"initial accuracy: {:.2f}\".format(accuracy0))"
   ]
  },
  {
   "cell_type": "code",
   "execution_count": null,
   "metadata": {},
   "outputs": [],
   "source": [
    "if generate_mode_with_keras_applications:\n",
    "    history = model.fit(train_dataset,\n",
    "                        epochs=initial_epochs,\n",
    "                        validation_data=validation_dataset)"
   ]
  },
  {
   "cell_type": "code",
   "execution_count": null,
   "metadata": {},
   "outputs": [],
   "source": [
    "if generate_mode_with_keras_applications:\n",
    "    acc = history.history['accuracy']\n",
    "    val_acc = history.history['val_accuracy']\n",
    "\n",
    "    loss = history.history['loss']\n",
    "    val_loss = history.history['val_loss']\n",
    "\n",
    "    plt.figure(figsize=(8, 8))\n",
    "    plt.subplot(2, 1, 1)\n",
    "    plt.plot(acc, label='Training Accuracy')\n",
    "    plt.plot(val_acc, label='Validation Accuracy')\n",
    "    plt.legend(loc='lower right')\n",
    "    plt.ylabel('Accuracy')\n",
    "    plt.ylim([min(plt.ylim()),1])\n",
    "    plt.title('Training and Validation Accuracy')\n",
    "\n",
    "    plt.subplot(2, 1, 2)\n",
    "    plt.plot(loss, label='Training Loss')\n",
    "    plt.plot(val_loss, label='Validation Loss')\n",
    "    plt.legend(loc='upper right')\n",
    "    plt.ylabel('Cross Entropy')\n",
    "    plt.ylim([0,1.0])\n",
    "    plt.title('Training and Validation Loss')\n",
    "    plt.xlabel('epoch')\n",
    "    plt.show()"
   ]
  },
  {
   "cell_type": "code",
   "execution_count": null,
   "metadata": {},
   "outputs": [],
   "source": [
    "if generate_mode_with_keras_applications:\n",
    "    base_model.trainable = True"
   ]
  },
  {
   "cell_type": "code",
   "execution_count": null,
   "metadata": {},
   "outputs": [],
   "source": [
    "if generate_mode_with_keras_applications:\n",
    "  # Let's take a look to see how many layers are in the base model\n",
    "  print(\"Number of layers in the base model: \", len(base_model.layers))\n",
    "\n",
    "  # Fine-tune from this layer onwards\n",
    "  fine_tune_at = 100\n",
    "\n",
    "  # Freeze all the layers before the `fine_tune_at` layer\n",
    "  for layer in base_model.layers[:fine_tune_at]:\n",
    "    layer.trainable =  False"
   ]
  },
  {
   "cell_type": "code",
   "execution_count": null,
   "metadata": {},
   "outputs": [],
   "source": [
    "if generate_mode_with_keras_applications:\n",
    "    model.compile(loss=tf.keras.losses.BinaryCrossentropy(from_logits=True),\n",
    "                optimizer = tf.keras.optimizers.RMSprop(learning_rate=base_learning_rate/10),\n",
    "                metrics=['accuracy'])"
   ]
  },
  {
   "cell_type": "code",
   "execution_count": null,
   "metadata": {},
   "outputs": [],
   "source": [
    "if generate_mode_with_keras_applications:\n",
    "    model.summary()"
   ]
  },
  {
   "cell_type": "code",
   "execution_count": null,
   "metadata": {},
   "outputs": [],
   "source": [
    "if generate_mode_with_keras_applications:\n",
    "    len(model.trainable_variables)  "
   ]
  },
  {
   "cell_type": "code",
   "execution_count": null,
   "metadata": {},
   "outputs": [],
   "source": [
    "if generate_mode_with_keras_applications:\n",
    "    fine_tune_epochs = 10\n",
    "    total_epochs =  initial_epochs + fine_tune_epochs\n",
    "\n",
    "    history_fine = model.fit(train_dataset,\n",
    "                            epochs=total_epochs,\n",
    "                            initial_epoch=history.epoch[-1],\n",
    "                            validation_data=validation_dataset)"
   ]
  },
  {
   "cell_type": "code",
   "execution_count": null,
   "metadata": {},
   "outputs": [],
   "source": [
    "if generate_mode_with_keras_applications:\n",
    "    acc += history_fine.history['accuracy']\n",
    "    val_acc += history_fine.history['val_accuracy']\n",
    "\n",
    "    loss += history_fine.history['loss']\n",
    "    val_loss += history_fine.history['val_loss']"
   ]
  },
  {
   "cell_type": "code",
   "execution_count": null,
   "metadata": {},
   "outputs": [],
   "source": [
    "if generate_mode_with_keras_applications:\n",
    "    plt.figure(figsize=(8, 8))\n",
    "    plt.subplot(2, 1, 1)\n",
    "    plt.plot(acc, label='Training Accuracy')\n",
    "    plt.plot(val_acc, label='Validation Accuracy')\n",
    "    plt.ylim([0.8, 1])\n",
    "    plt.plot([initial_epochs-1,initial_epochs-1],\n",
    "            plt.ylim(), label='Start Fine Tuning')\n",
    "    plt.legend(loc='lower right')\n",
    "    plt.title('Training and Validation Accuracy')\n",
    "\n",
    "    plt.subplot(2, 1, 2)\n",
    "    plt.plot(loss, label='Training Loss')\n",
    "    plt.plot(val_loss, label='Validation Loss')\n",
    "    plt.ylim([0, 1.0])\n",
    "    plt.plot([initial_epochs-1,initial_epochs-1],\n",
    "            plt.ylim(), label='Start Fine Tuning')\n",
    "    plt.legend(loc='upper right')\n",
    "    plt.title('Training and Validation Loss')\n",
    "    plt.xlabel('epoch')\n",
    "    plt.show()"
   ]
  },
  {
   "cell_type": "code",
   "execution_count": null,
   "metadata": {},
   "outputs": [],
   "source": [
    "if generate_mode_with_keras_applications:\n",
    "    loss, accuracy = model.evaluate(test_dataset)\n",
    "    print('Test accuracy :', accuracy)"
   ]
  },
  {
   "cell_type": "code",
   "execution_count": null,
   "metadata": {},
   "outputs": [],
   "source": [
    "if generate_mode_with_keras_applications:\n",
    "  # Retrieve a batch of images from the test set\n",
    "  image_batch, label_batch = test_dataset.as_numpy_iterator().next()\n",
    "  predictions = model.predict_on_batch(image_batch).flatten()\n",
    "\n",
    "  # Apply a sigmoid since our model returns logits\n",
    "  predictions = tf.nn.sigmoid(predictions)\n",
    "  predictions = tf.where(predictions < 0.5, 0, 1)\n",
    "\n",
    "  print('Predictions:\\n', predictions.numpy())\n",
    "  print('Labels:\\n', label_batch)\n",
    "\n",
    "  plt.figure(figsize=(10, 10))\n",
    "  for i in range(9):\n",
    "    ax = plt.subplot(3, 3, i + 1)\n",
    "    plt.imshow(image_batch[i].astype(\"uint8\"))\n",
    "    plt.title(class_names[predictions[i]])\n",
    "    plt.axis(\"off\")\n",
    "#Marion"
   ]
  }
 ],
 "metadata": {
  "interpreter": {
   "hash": "b3ba2566441a7c06988d0923437866b63cedc61552a5af99d1f4fb67d367b25f"
  },
  "kernelspec": {
   "display_name": "Python 3.8.8 64-bit ('base': conda)",
   "language": "python",
   "name": "python3"
  },
  "language_info": {
   "codemirror_mode": {
    "name": "ipython",
    "version": 3
   },
   "file_extension": ".py",
   "mimetype": "text/x-python",
   "name": "python",
   "nbconvert_exporter": "python",
   "pygments_lexer": "ipython3",
   "version": "3.8.8"
  },
  "orig_nbformat": 4
 },
 "nbformat": 4,
 "nbformat_minor": 2
}
